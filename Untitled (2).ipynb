{
 "cells": [
  {
   "cell_type": "code",
   "execution_count": 23,
   "id": "c4fea42f-f59e-4494-89d6-cc57654b9f79",
   "metadata": {},
   "outputs": [],
   "source": [
    "import numpy as np\n",
    "import pandas as pd\n",
    "import matplotlib.pyplot as plt\n",
    "import seaborn as sns\n",
    "dataset = pd.read_csv(\"penguins.csv\")"
   ]
  },
  {
   "cell_type": "code",
   "execution_count": 30,
   "id": "652cad39-471e-41f6-a840-bb818a5069fe",
   "metadata": {},
   "outputs": [
    {
     "data": {
      "text/html": [
       "<div>\n",
       "<style scoped>\n",
       "    .dataframe tbody tr th:only-of-type {\n",
       "        vertical-align: middle;\n",
       "    }\n",
       "\n",
       "    .dataframe tbody tr th {\n",
       "        vertical-align: top;\n",
       "    }\n",
       "\n",
       "    .dataframe thead th {\n",
       "        text-align: right;\n",
       "    }\n",
       "</style>\n",
       "<table border=\"1\" class=\"dataframe\">\n",
       "  <thead>\n",
       "    <tr style=\"text-align: right;\">\n",
       "      <th></th>\n",
       "      <th>id</th>\n",
       "      <th>species</th>\n",
       "      <th>island</th>\n",
       "      <th>bill_length_mm</th>\n",
       "      <th>bill_depth_mm</th>\n",
       "      <th>flipper_length_mm</th>\n",
       "      <th>body_mass_g</th>\n",
       "      <th>sex</th>\n",
       "      <th>year</th>\n",
       "    </tr>\n",
       "  </thead>\n",
       "  <tbody>\n",
       "    <tr>\n",
       "      <th>0</th>\n",
       "      <td>0</td>\n",
       "      <td>Adelie</td>\n",
       "      <td>Torgersen</td>\n",
       "      <td>39.1</td>\n",
       "      <td>18.7</td>\n",
       "      <td>181.0</td>\n",
       "      <td>3750.0</td>\n",
       "      <td>male</td>\n",
       "      <td>2007</td>\n",
       "    </tr>\n",
       "    <tr>\n",
       "      <th>1</th>\n",
       "      <td>1</td>\n",
       "      <td>Adelie</td>\n",
       "      <td>Torgersen</td>\n",
       "      <td>39.5</td>\n",
       "      <td>17.4</td>\n",
       "      <td>186.0</td>\n",
       "      <td>3800.0</td>\n",
       "      <td>female</td>\n",
       "      <td>2007</td>\n",
       "    </tr>\n",
       "    <tr>\n",
       "      <th>2</th>\n",
       "      <td>2</td>\n",
       "      <td>Adelie</td>\n",
       "      <td>Torgersen</td>\n",
       "      <td>40.3</td>\n",
       "      <td>18.0</td>\n",
       "      <td>195.0</td>\n",
       "      <td>3250.0</td>\n",
       "      <td>female</td>\n",
       "      <td>2007</td>\n",
       "    </tr>\n",
       "    <tr>\n",
       "      <th>3</th>\n",
       "      <td>3</td>\n",
       "      <td>Adelie</td>\n",
       "      <td>Torgersen</td>\n",
       "      <td>NaN</td>\n",
       "      <td>NaN</td>\n",
       "      <td>NaN</td>\n",
       "      <td>NaN</td>\n",
       "      <td>NaN</td>\n",
       "      <td>2007</td>\n",
       "    </tr>\n",
       "    <tr>\n",
       "      <th>4</th>\n",
       "      <td>4</td>\n",
       "      <td>Adelie</td>\n",
       "      <td>Torgersen</td>\n",
       "      <td>36.7</td>\n",
       "      <td>19.3</td>\n",
       "      <td>193.0</td>\n",
       "      <td>3450.0</td>\n",
       "      <td>female</td>\n",
       "      <td>2007</td>\n",
       "    </tr>\n",
       "  </tbody>\n",
       "</table>\n",
       "</div>"
      ],
      "text/plain": [
       "   id species     island  bill_length_mm  bill_depth_mm  flipper_length_mm  \\\n",
       "0   0  Adelie  Torgersen            39.1           18.7              181.0   \n",
       "1   1  Adelie  Torgersen            39.5           17.4              186.0   \n",
       "2   2  Adelie  Torgersen            40.3           18.0              195.0   \n",
       "3   3  Adelie  Torgersen             NaN            NaN                NaN   \n",
       "4   4  Adelie  Torgersen            36.7           19.3              193.0   \n",
       "\n",
       "   body_mass_g     sex  year  \n",
       "0       3750.0    male  2007  \n",
       "1       3800.0  female  2007  \n",
       "2       3250.0  female  2007  \n",
       "3          NaN     NaN  2007  \n",
       "4       3450.0  female  2007  "
      ]
     },
     "execution_count": 30,
     "metadata": {},
     "output_type": "execute_result"
    }
   ],
   "source": [
    "dataset.head()"
   ]
  },
  {
   "cell_type": "code",
   "execution_count": 28,
   "id": "c0f04a2a-d094-4731-a5ef-ec433920c7cb",
   "metadata": {},
   "outputs": [
    {
     "name": "stdout",
     "output_type": "stream",
     "text": [
      "<bound method DataFrame.info of       id    species     island  bill_length_mm  bill_depth_mm  \\\n",
      "0      0     Adelie  Torgersen            39.1           18.7   \n",
      "1      1     Adelie  Torgersen            39.5           17.4   \n",
      "2      2     Adelie  Torgersen            40.3           18.0   \n",
      "3      3     Adelie  Torgersen             NaN            NaN   \n",
      "4      4     Adelie  Torgersen            36.7           19.3   \n",
      "..   ...        ...        ...             ...            ...   \n",
      "339  339  Chinstrap      Dream            55.8           19.8   \n",
      "340  340  Chinstrap      Dream            43.5           18.1   \n",
      "341  341  Chinstrap      Dream            49.6           18.2   \n",
      "342  342  Chinstrap      Dream            50.8           19.0   \n",
      "343  343  Chinstrap      Dream            50.2           18.7   \n",
      "\n",
      "     flipper_length_mm  body_mass_g     sex  year  \n",
      "0                181.0       3750.0    male  2007  \n",
      "1                186.0       3800.0  female  2007  \n",
      "2                195.0       3250.0  female  2007  \n",
      "3                  NaN          NaN     NaN  2007  \n",
      "4                193.0       3450.0  female  2007  \n",
      "..                 ...          ...     ...   ...  \n",
      "339              207.0       4000.0    male  2009  \n",
      "340              202.0       3400.0  female  2009  \n",
      "341              193.0       3775.0    male  2009  \n",
      "342              210.0       4100.0    male  2009  \n",
      "343              198.0       3775.0  female  2009  \n",
      "\n",
      "[344 rows x 9 columns]>\n"
     ]
    }
   ],
   "source": [
    "print(dataset.info)"
   ]
  },
  {
   "cell_type": "code",
   "execution_count": 32,
   "id": "f567745a-76c2-4b30-85c9-af28aae71f3e",
   "metadata": {},
   "outputs": [
    {
     "name": "stdout",
     "output_type": "stream",
     "text": [
      "<bound method DataFrame.info of       id    species     island  bill_length_mm  bill_depth_mm  \\\n",
      "0      0     Adelie  Torgersen            39.1           18.7   \n",
      "1      1     Adelie  Torgersen            39.5           17.4   \n",
      "2      2     Adelie  Torgersen            40.3           18.0   \n",
      "3      3     Adelie  Torgersen             NaN            NaN   \n",
      "4      4     Adelie  Torgersen            36.7           19.3   \n",
      "..   ...        ...        ...             ...            ...   \n",
      "339  339  Chinstrap      Dream            55.8           19.8   \n",
      "340  340  Chinstrap      Dream            43.5           18.1   \n",
      "341  341  Chinstrap      Dream            49.6           18.2   \n",
      "342  342  Chinstrap      Dream            50.8           19.0   \n",
      "343  343  Chinstrap      Dream            50.2           18.7   \n",
      "\n",
      "     flipper_length_mm  body_mass_g     sex  year  \n",
      "0                181.0       3750.0    male  2007  \n",
      "1                186.0       3800.0  female  2007  \n",
      "2                195.0       3250.0  female  2007  \n",
      "3                  NaN          NaN     NaN  2007  \n",
      "4                193.0       3450.0  female  2007  \n",
      "..                 ...          ...     ...   ...  \n",
      "339              207.0       4000.0    male  2009  \n",
      "340              202.0       3400.0  female  2009  \n",
      "341              193.0       3775.0    male  2009  \n",
      "342              210.0       4100.0    male  2009  \n",
      "343              198.0       3775.0  female  2009  \n",
      "\n",
      "[344 rows x 9 columns]>\n"
     ]
    }
   ],
   "source": [
    "print(dataset.info)"
   ]
  },
  {
   "cell_type": "code",
   "execution_count": 34,
   "id": "779bef5c-c07b-4e5a-a34a-56652bbf44f0",
   "metadata": {},
   "outputs": [
    {
     "name": "stdout",
     "output_type": "stream",
     "text": [
      "               id  bill_length_mm  bill_depth_mm  flipper_length_mm  \\\n",
      "count  344.000000      342.000000     342.000000         342.000000   \n",
      "mean   171.500000       43.921930      17.151170         200.915205   \n",
      "std     99.448479        5.459584       1.974793          14.061714   \n",
      "min      0.000000       32.100000      13.100000         172.000000   \n",
      "25%     85.750000       39.225000      15.600000         190.000000   \n",
      "50%    171.500000       44.450000      17.300000         197.000000   \n",
      "75%    257.250000       48.500000      18.700000         213.000000   \n",
      "max    343.000000       59.600000      21.500000         231.000000   \n",
      "\n",
      "       body_mass_g         year  \n",
      "count   342.000000   344.000000  \n",
      "mean   4201.754386  2008.029070  \n",
      "std     801.954536     0.818356  \n",
      "min    2700.000000  2007.000000  \n",
      "25%    3550.000000  2007.000000  \n",
      "50%    4050.000000  2008.000000  \n",
      "75%    4750.000000  2009.000000  \n",
      "max    6300.000000  2009.000000  \n"
     ]
    }
   ],
   "source": [
    "print(dataset.describe())"
   ]
  },
  {
   "cell_type": "code",
   "execution_count": 42,
   "id": "4c704191-e4f2-470a-9a54-67d6e81bfee5",
   "metadata": {},
   "outputs": [
    {
     "data": {
      "text/plain": [
       "(344, 9)"
      ]
     },
     "execution_count": 42,
     "metadata": {},
     "output_type": "execute_result"
    }
   ],
   "source": [
    "data.shape"
   ]
  },
  {
   "cell_type": "code",
   "execution_count": 44,
   "id": "9fb9a854-dcbe-48be-8cdb-5887c78088bd",
   "metadata": {},
   "outputs": [
    {
     "data": {
      "text/plain": [
       "id                   344\n",
       "species                3\n",
       "island                 3\n",
       "bill_length_mm       164\n",
       "bill_depth_mm         80\n",
       "flipper_length_mm     55\n",
       "body_mass_g           94\n",
       "sex                    2\n",
       "year                   3\n",
       "dtype: int64"
      ]
     },
     "execution_count": 44,
     "metadata": {},
     "output_type": "execute_result"
    }
   ],
   "source": [
    "data.nunique ()"
   ]
  },
  {
   "cell_type": "code",
   "execution_count": 46,
   "id": "0cb2be57-737e-4bc7-b89e-296aa586ac76",
   "metadata": {},
   "outputs": [
    {
     "data": {
      "text/html": [
       "<div>\n",
       "<style scoped>\n",
       "    .dataframe tbody tr th:only-of-type {\n",
       "        vertical-align: middle;\n",
       "    }\n",
       "\n",
       "    .dataframe tbody tr th {\n",
       "        vertical-align: top;\n",
       "    }\n",
       "\n",
       "    .dataframe thead th {\n",
       "        text-align: right;\n",
       "    }\n",
       "</style>\n",
       "<table border=\"1\" class=\"dataframe\">\n",
       "  <thead>\n",
       "    <tr style=\"text-align: right;\">\n",
       "      <th></th>\n",
       "      <th>id</th>\n",
       "      <th>species</th>\n",
       "      <th>island</th>\n",
       "      <th>bill_length_mm</th>\n",
       "      <th>bill_depth_mm</th>\n",
       "      <th>flipper_length_mm</th>\n",
       "      <th>body_mass_g</th>\n",
       "      <th>sex</th>\n",
       "      <th>year</th>\n",
       "    </tr>\n",
       "  </thead>\n",
       "  <tbody>\n",
       "    <tr>\n",
       "      <th>0</th>\n",
       "      <td>0</td>\n",
       "      <td>Adelie</td>\n",
       "      <td>Torgersen</td>\n",
       "      <td>39.1</td>\n",
       "      <td>18.7</td>\n",
       "      <td>181.0</td>\n",
       "      <td>3750.0</td>\n",
       "      <td>male</td>\n",
       "      <td>2007</td>\n",
       "    </tr>\n",
       "    <tr>\n",
       "      <th>1</th>\n",
       "      <td>1</td>\n",
       "      <td>Adelie</td>\n",
       "      <td>Torgersen</td>\n",
       "      <td>39.5</td>\n",
       "      <td>17.4</td>\n",
       "      <td>186.0</td>\n",
       "      <td>3800.0</td>\n",
       "      <td>female</td>\n",
       "      <td>2007</td>\n",
       "    </tr>\n",
       "    <tr>\n",
       "      <th>2</th>\n",
       "      <td>2</td>\n",
       "      <td>Adelie</td>\n",
       "      <td>Torgersen</td>\n",
       "      <td>40.3</td>\n",
       "      <td>18.0</td>\n",
       "      <td>195.0</td>\n",
       "      <td>3250.0</td>\n",
       "      <td>female</td>\n",
       "      <td>2007</td>\n",
       "    </tr>\n",
       "    <tr>\n",
       "      <th>3</th>\n",
       "      <td>3</td>\n",
       "      <td>Adelie</td>\n",
       "      <td>Torgersen</td>\n",
       "      <td>NaN</td>\n",
       "      <td>NaN</td>\n",
       "      <td>NaN</td>\n",
       "      <td>NaN</td>\n",
       "      <td>NaN</td>\n",
       "      <td>2007</td>\n",
       "    </tr>\n",
       "    <tr>\n",
       "      <th>4</th>\n",
       "      <td>4</td>\n",
       "      <td>Adelie</td>\n",
       "      <td>Torgersen</td>\n",
       "      <td>36.7</td>\n",
       "      <td>19.3</td>\n",
       "      <td>193.0</td>\n",
       "      <td>3450.0</td>\n",
       "      <td>female</td>\n",
       "      <td>2007</td>\n",
       "    </tr>\n",
       "  </tbody>\n",
       "</table>\n",
       "</div>"
      ],
      "text/plain": [
       "   id species     island  bill_length_mm  bill_depth_mm  flipper_length_mm  \\\n",
       "0   0  Adelie  Torgersen            39.1           18.7              181.0   \n",
       "1   1  Adelie  Torgersen            39.5           17.4              186.0   \n",
       "2   2  Adelie  Torgersen            40.3           18.0              195.0   \n",
       "3   3  Adelie  Torgersen             NaN            NaN                NaN   \n",
       "4   4  Adelie  Torgersen            36.7           19.3              193.0   \n",
       "\n",
       "   body_mass_g     sex  year  \n",
       "0       3750.0    male  2007  \n",
       "1       3800.0  female  2007  \n",
       "2       3250.0  female  2007  \n",
       "3          NaN     NaN  2007  \n",
       "4       3450.0  female  2007  "
      ]
     },
     "execution_count": 46,
     "metadata": {},
     "output_type": "execute_result"
    }
   ],
   "source": [
    "data.head()"
   ]
  },
  {
   "cell_type": "code",
   "execution_count": 48,
   "id": "accce937-afe4-460e-9d3c-d37165a3f66f",
   "metadata": {},
   "outputs": [
    {
     "data": {
      "text/html": [
       "<div>\n",
       "<style scoped>\n",
       "    .dataframe tbody tr th:only-of-type {\n",
       "        vertical-align: middle;\n",
       "    }\n",
       "\n",
       "    .dataframe tbody tr th {\n",
       "        vertical-align: top;\n",
       "    }\n",
       "\n",
       "    .dataframe thead th {\n",
       "        text-align: right;\n",
       "    }\n",
       "</style>\n",
       "<table border=\"1\" class=\"dataframe\">\n",
       "  <thead>\n",
       "    <tr style=\"text-align: right;\">\n",
       "      <th></th>\n",
       "      <th>id</th>\n",
       "      <th>species</th>\n",
       "      <th>island</th>\n",
       "      <th>bill_length_mm</th>\n",
       "      <th>bill_depth_mm</th>\n",
       "      <th>flipper_length_mm</th>\n",
       "      <th>body_mass_g</th>\n",
       "      <th>sex</th>\n",
       "      <th>year</th>\n",
       "    </tr>\n",
       "  </thead>\n",
       "  <tbody>\n",
       "    <tr>\n",
       "      <th>339</th>\n",
       "      <td>339</td>\n",
       "      <td>Chinstrap</td>\n",
       "      <td>Dream</td>\n",
       "      <td>55.8</td>\n",
       "      <td>19.8</td>\n",
       "      <td>207.0</td>\n",
       "      <td>4000.0</td>\n",
       "      <td>male</td>\n",
       "      <td>2009</td>\n",
       "    </tr>\n",
       "    <tr>\n",
       "      <th>340</th>\n",
       "      <td>340</td>\n",
       "      <td>Chinstrap</td>\n",
       "      <td>Dream</td>\n",
       "      <td>43.5</td>\n",
       "      <td>18.1</td>\n",
       "      <td>202.0</td>\n",
       "      <td>3400.0</td>\n",
       "      <td>female</td>\n",
       "      <td>2009</td>\n",
       "    </tr>\n",
       "    <tr>\n",
       "      <th>341</th>\n",
       "      <td>341</td>\n",
       "      <td>Chinstrap</td>\n",
       "      <td>Dream</td>\n",
       "      <td>49.6</td>\n",
       "      <td>18.2</td>\n",
       "      <td>193.0</td>\n",
       "      <td>3775.0</td>\n",
       "      <td>male</td>\n",
       "      <td>2009</td>\n",
       "    </tr>\n",
       "    <tr>\n",
       "      <th>342</th>\n",
       "      <td>342</td>\n",
       "      <td>Chinstrap</td>\n",
       "      <td>Dream</td>\n",
       "      <td>50.8</td>\n",
       "      <td>19.0</td>\n",
       "      <td>210.0</td>\n",
       "      <td>4100.0</td>\n",
       "      <td>male</td>\n",
       "      <td>2009</td>\n",
       "    </tr>\n",
       "    <tr>\n",
       "      <th>343</th>\n",
       "      <td>343</td>\n",
       "      <td>Chinstrap</td>\n",
       "      <td>Dream</td>\n",
       "      <td>50.2</td>\n",
       "      <td>18.7</td>\n",
       "      <td>198.0</td>\n",
       "      <td>3775.0</td>\n",
       "      <td>female</td>\n",
       "      <td>2009</td>\n",
       "    </tr>\n",
       "  </tbody>\n",
       "</table>\n",
       "</div>"
      ],
      "text/plain": [
       "      id    species island  bill_length_mm  bill_depth_mm  flipper_length_mm  \\\n",
       "339  339  Chinstrap  Dream            55.8           19.8              207.0   \n",
       "340  340  Chinstrap  Dream            43.5           18.1              202.0   \n",
       "341  341  Chinstrap  Dream            49.6           18.2              193.0   \n",
       "342  342  Chinstrap  Dream            50.8           19.0              210.0   \n",
       "343  343  Chinstrap  Dream            50.2           18.7              198.0   \n",
       "\n",
       "     body_mass_g     sex  year  \n",
       "339       4000.0    male  2009  \n",
       "340       3400.0  female  2009  \n",
       "341       3775.0    male  2009  \n",
       "342       4100.0    male  2009  \n",
       "343       3775.0  female  2009  "
      ]
     },
     "execution_count": 48,
     "metadata": {},
     "output_type": "execute_result"
    }
   ],
   "source": [
    "data.tail()"
   ]
  },
  {
   "cell_type": "code",
   "execution_count": 38,
   "id": "bef3dfe5-33b1-4a23-8610-3edb41eeefcc",
   "metadata": {},
   "outputs": [
    {
     "data": {
      "text/plain": [
       "Index(['id', 'species', 'island', 'bill_length_mm', 'bill_depth_mm',\n",
       "       'flipper_length_mm', 'body_mass_g', 'sex', 'year'],\n",
       "      dtype='object')"
      ]
     },
     "execution_count": 38,
     "metadata": {},
     "output_type": "execute_result"
    }
   ],
   "source": [
    "dataset.columns"
   ]
  },
  {
   "cell_type": "code",
   "execution_count": 36,
   "id": "6cb73107-b72e-4c7c-bd5b-2abbb273795f",
   "metadata": {},
   "outputs": [
    {
     "data": {
      "text/plain": [
       "id                    0\n",
       "species               0\n",
       "island                0\n",
       "bill_length_mm        2\n",
       "bill_depth_mm         2\n",
       "flipper_length_mm     2\n",
       "body_mass_g           2\n",
       "sex                  11\n",
       "year                  0\n",
       "dtype: int64"
      ]
     },
     "execution_count": 36,
     "metadata": {},
     "output_type": "execute_result"
    }
   ],
   "source": [
    "dataset.isna().sum()"
   ]
  },
  {
   "cell_type": "code",
   "execution_count": 40,
   "id": "e8776b58-93b2-4f6c-acbb-2506bc0c6cce",
   "metadata": {},
   "outputs": [
    {
     "data": {
      "text/plain": [
       "0"
      ]
     },
     "execution_count": 40,
     "metadata": {},
     "output_type": "execute_result"
    }
   ],
   "source": [
    "dataset.duplicated().sum()"
   ]
  }
 ],
 "metadata": {
  "kernelspec": {
   "display_name": "Python 3 (ipykernel)",
   "language": "python",
   "name": "python3"
  },
  "language_info": {
   "codemirror_mode": {
    "name": "ipython",
    "version": 3
   },
   "file_extension": ".py",
   "mimetype": "text/x-python",
   "name": "python",
   "nbconvert_exporter": "python",
   "pygments_lexer": "ipython3",
   "version": "3.12.4"
  }
 },
 "nbformat": 4,
 "nbformat_minor": 5
}
